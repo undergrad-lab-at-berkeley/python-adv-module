{
 "cells": [
  {
   "cell_type": "markdown",
   "id": "690ca52e-7ca0-4540-b062-daaa7e8c5954",
   "metadata": {},
   "source": [
    "### Statistics Module 2"
   ]
  },
  {
   "cell_type": "code",
   "execution_count": null,
   "id": "95c1ad4b",
   "metadata": {},
   "outputs": [],
   "source": [
    "import numpy as np\n",
    "import matplotlib.pyplot as plt\n",
    "import pandas as pd\n",
    "#run this cell!"
   ]
  },
  {
   "cell_type": "markdown",
   "id": "e8cbe2d8-7efb-4711-94fd-c775e1080d4d",
   "metadata": {},
   "source": [
    "This module will have two section and we'll explore linear regression and curve fitting using Python."
   ]
  },
  {
   "attachments": {
    "98b69d85-da25-4b35-8e07-c7836c5f0bb4.png": {
     "image/png": "[encoded data removed]"
    }
   },
   "cell_type": "markdown",
   "id": "9ee1b9f7-0d3c-4bb1-b97e-881d60180be6",
   "metadata": {},
   "source": [
    "Incandescent light bulb emit black-body radiation from a thin filament heated by a passing current. The temperature of the filament ranges from 2700-3000 K (soft), 3500–4100 K (cool), and 5000-6000 K (daylight). The black-body spectrum is given by:\n",
    "![image.png](attachment:98b69d85-da25-4b35-8e07-c7836c5f0bb4.png)\n",
    " \n",
    "where  is is the Planck constant,  is the Boltzmann constant, and  is the temperature in Kelvin. \n",
    "\n",
    "Suppose your company, ULAB Incandescent Industries LLC, has just developed a new filament light and wish to characterize their creation. The company's staff scientist has already measured the black-body spectrum as a function of wavelength of the bulb. Your task is to analyze this data!"
   ]
  },
  {
   "cell_type": "markdown",
   "id": "edcb56ef-947d-4545-bdd9-de30701115e8",
   "metadata": {},
   "source": [
    "**1. The black-body data is located [here](https://www.ocf.berkeley.edu/~yizhu/bb.txt) (pay close attention to units!) Make a plot of specific intensity as a function of wavelength in nm. Make sure to label axis and attach an appropriate title.**"
   ]
  },
  {
   "cell_type": "code",
   "execution_count": null,
   "id": "ec634d1c-e5ce-423b-a862-16857d112df4",
   "metadata": {},
   "outputs": [],
   "source": [
    "data = pd.read_csv('https://www.ocf.berkeley.edu/~yizhu/bb.txt', delimiter=',')\n",
    "#you might want to create another cell to visualize the data dataframe, so you know what to pull out of it for plotting.\n",
    "lam = ...\n",
    "I = ...\n",
    "\n",
    "fig, ax = plt.subplots(figsize=(10,6))\n",
    "ax.plot(..., ...)\n",
    "ax.set_xlabel(r'$\\lambda$ (nm)')\n",
    "ax.set_ylabel(r'Intensity ($W/m^3 Sr$)')\n",
    "ax.set_title('Black-body Spectrum')\n",
    "plt.show()"
   ]
  },
  {
   "cell_type": "markdown",
   "id": "98281978-7b4b-44b4-874f-6f78b9d4a4c3",
   "metadata": {},
   "source": [
    "**2. Define a function ``bb`` with parameters: wavelength, temperature, scaling and shifting that returns the black-body intensity given by the equation above. Make sure your function is compatible with numpy arrays!**"
   ]
  },
  {
   "cell_type": "code",
   "execution_count": null,
   "id": "098c9e46-a515-439d-827f-43f2ecff1bba",
   "metadata": {},
   "outputs": [],
   "source": [
    "h = 6.626e-34 #Js\n",
    "c = 3e8 #m/s\n",
    "kb = 1.38e-23 #J/K\n",
    "\n",
    "'''\n",
    "Black-body specture B_lambda\n",
    "\n",
    "Paramters:\n",
    "    lam: wavelength in m\n",
    "    T: temperature in kelvin\n",
    "    a: scaling factor\n",
    "    of: offset to account for any shift in data\n",
    "'''\n",
    "def bb(...):\n",
    "    return ..."
   ]
  },
  {
   "cell_type": "markdown",
   "id": "3d898f06-f88e-4bac-8c6c-b9951b790e6d",
   "metadata": {},
   "source": [
    "You might notice that we are taking in `a` and `of` - these parameters are traditionally used just in case there is any need for scaling or shifting of data in order to obtain a better fit."
   ]
  },
  {
   "cell_type": "markdown",
   "id": "0dfed18f-3f33-4d87-b00e-29707a7f213c",
   "metadata": {},
   "source": [
    "**3. Find and print the best fit temperature of the given spectrum. Hint: if you're encountering strange overflow errors, you might need to give the curve fitting function some initial parameters. Read up on the p0 parameter here. In this case, the specific value of p0 isn't too important, so ~1000 K for Temperature will do! We also don't anticipate any need for scaling or shifting - what should the initial guess for a and of be in this case?**"
   ]
  },
  {
   "attachments": {},
   "cell_type": "markdown",
   "id": "f77d86ac-2184-4524-b7a2-ab9170daba52",
   "metadata": {},
   "source": [
    "scipy.optimize has a function called ``curve_fit`` which uses non-linear least squares to fit a function, f, to data.\n",
    "\n",
    "[Here](https://docs.scipy.org/doc/scipy/reference/generated/scipy.optimize.curve_fit.html) is the documentation for this function. \n",
    "\n",
    "Here are all the parameters that we will be using.\n",
    "\n",
    "`` f:`` The fitting function. This is the function that produces the model.\n",
    "\n",
    "``xdata:`` This is the independent data. \n",
    "\n",
    "``ydata:`` This is the dependent data. ``curve_fit`` assumes f(xdata, \\*params) = ydata + errors. (*params just means any number of paramters. The * shows us that there could be a variable number of parameters that the fitting function takes in - some fitting function take in 2 free parameters, other might need 50.)\n",
    "\n",
    "``p0:`` Initial guesses for parameters. These values are how we let ``curve_fit`` know that we have some idea of what our fit looks like - ``curve_fit`` takes these values and converges on the true best fit for the provided data and model provided.\n",
    "\n",
    "What does curve_fit return? Check the documentation! You **have** to consult the documentation in order to know how to use the returned arrays and extract the best fit parameters and errors associated."
   ]
  },
  {
   "cell_type": "code",
   "execution_count": null,
   "id": "a29a2f34-ea85-4a56-b0de-5cf0abcd0711",
   "metadata": {},
   "outputs": [],
   "source": [
    "#What are you importing from scipy.optimize?\n",
    "from scipy.optimize import ...\n",
    "\n",
    "#perform the curve fitting here\n",
    "...\n",
    "\n",
    "popt, pcov = ...\n",
    "print('Best fit temperature {:.5} K'.format(popt[0]))"
   ]
  },
  {
   "cell_type": "markdown",
   "id": "71151600",
   "metadata": {},
   "source": [
    "**What type of bulb does this temperature correspond to: soft, cool, or daylight?**"
   ]
  },
  {
   "cell_type": "markdown",
   "id": "7443c622-ddbf-4b4d-b9a4-eccee9809719",
   "metadata": {},
   "source": [
    "**4. On the same figure, plot and label the original data and the best fit curve for the temperature you determined above. Be sure to include the legend as well as label the axis.**"
   ]
  },
  {
   "cell_type": "code",
   "execution_count": null,
   "id": "86b8a41c-470a-4a22-9713-b6f9b3a182e0",
   "metadata": {},
   "outputs": [],
   "source": [
    "fit = ...\n",
    "\n",
    "fig, ax = plt.subplots(figsize=(10,6))\n",
    "ax.plot(..., ..., label='data')\n",
    "ax.plot(..., ..., label='fit')\n",
    "ax.set_xlabel(r'$\\lambda$ (nm)')\n",
    "ax.set_ylabel(r'Intensity ($W/m^3 Sr$)')\n",
    "ax.set_title('Black-body Spectrum')\n",
    "ax.legend()\n",
    "plt.show()"
   ]
  },
  {
   "cell_type": "markdown",
   "id": "ac7e6f4a-f8e8-436d-a542-339e7bc55822",
   "metadata": {},
   "source": [
    "**5. Find and print the peak wavelength of your best fit curve (not the original data!). What color does this wavelength correspond? Does this make sense given the bulb category you found above (soft, cool, or daylight).**"
   ]
  },
  {
   "cell_type": "code",
   "execution_count": null,
   "id": "8043f56c-2c19-4c45-908b-4b9f22e7c4c3",
   "metadata": {},
   "outputs": [],
   "source": [
    "m = ...\n",
    "print('The peak wavelength is {:.4} nm'.format(m))"
   ]
  },
  {
   "cell_type": "markdown",
   "id": "3adb1e46-52a0-4dc7-9da9-e9981ecd8a96",
   "metadata": {},
   "source": [
    "**6. Calculate the reduced Chi-squared value for this fit. You can find the formula for this from the lecture notes! Note that the scaling parameter and offset are also free variables in this case and should be accounted for in your calculation**"
   ]
  },
  {
   "cell_type": "code",
   "execution_count": null,
   "id": "77d98e9f-78c4-4a43-9cc8-c9f4f106ac04",
   "metadata": {},
   "outputs": [],
   "source": []
  },
  {
   "cell_type": "markdown",
   "id": "ff3e6f4d-e6fe-415b-8fc8-525ea16c8c71",
   "metadata": {},
   "source": [
    "The color you should get is green. Why isn't the Sun green? Why aren't there any green stars?"
   ]
  },
  {
   "cell_type": "markdown",
   "id": "aa0c5413-b2ff-4b97-b2b2-bdcf4d1e737a",
   "metadata": {},
   "source": [
    "Answer here:"
   ]
  },
  {
   "cell_type": "markdown",
   "id": "97de168e-a392-4453-b594-eea777d76150",
   "metadata": {},
   "source": [
    "**(SUBMISSION)** Click on file/download as/PDF via LaTeX. Submit this PDF file to bCourses.\n",
    "\n",
    "Written and developed for ULAB Physics & Astronomy; Yi J. Zhu, 2022/03/13"
   ]
  }
 ],
 "metadata": {
  "kernelspec": {
   "display_name": "Python 3 (ipykernel)",
   "language": "python",
   "name": "python3"
  },
  "language_info": {
   "codemirror_mode": {
    "name": "ipython",
    "version": 3
   },
   "file_extension": ".py",
   "mimetype": "text/x-python",
   "name": "python",
   "nbconvert_exporter": "python",
   "pygments_lexer": "ipython3",
   "version": "3.8.5"
  }
 },
 "nbformat": 4,
 "nbformat_minor": 5
}
