{
 "cells": [
  {
   "cell_type": "markdown",
   "metadata": {},
   "source": [
    "# ULAB Physics & Astronomy: Python Module VI"
   ]
  },
  {
   "cell_type": "code",
   "execution_count": null,
   "metadata": {
    "ExecuteTime": {
     "end_time": "2021-07-17T20:14:59.868859Z",
     "start_time": "2021-07-17T20:14:59.814396Z"
    },
    "scrolled": true
   },
   "outputs": [],
   "source": [
    "# importing unittests\n",
    "import tests"
   ]
  },
  {
   "cell_type": "markdown",
   "metadata": {},
   "source": [
    "## Question 1 \n",
    "\n",
    "Create a function that counts the number of non-unique consonants in a string. A consonant is a English alphabet character that is not vowel (a, e, i, o and u).\n",
    "``\n",
    "count('Hi! My name is Padma.')\n",
    "``\n",
    "returns ``9``\n",
    "\n",
    "This string can contain upper or lower case characters. This string can contain non-alphabetic characters such as spaces or punctuation as well! In Python, **strings act the same way lists do** - you can index into them and travel through them the way you do with a list. So as you are traversing through the string, you have to **make sure** that you are dealing with an alphabet first.  Luckily enough, there are many ways you can do this (Python even has an function that does just that. We won't provide you with the function because googling and testing is an equally important skill)."
   ]
  },
  {
   "cell_type": "code",
   "execution_count": null,
   "metadata": {},
   "outputs": [],
   "source": [
    "def count(string):\n",
    "    ..."
   ]
  },
  {
   "cell_type": "code",
   "execution_count": null,
   "metadata": {},
   "outputs": [],
   "source": [
    "tests.run('test_1', count)"
   ]
  },
  {
   "cell_type": "markdown",
   "metadata": {},
   "source": [
    "## Question 2 \n",
    "\n",
    "Given the following three values, write a function that finds the total number of maximum candies you can eat. \n",
    "\n",
    "1. coins: Money you have to buy candies\n",
    "2. price: Price of a candy\n",
    "3. wrappers: Number of wrappers to be returned for getting one extra candy.\n",
    "\n",
    "Assume that all given values are positive integers and greater than 1.\n",
    "\n",
    "#### For example:\n",
    "\n",
    "Input: coins = 20, price = 5, wrappers = 2\n",
    "\n",
    "Output:   7\n",
    "\n",
    "Price of a candy is 5 coins. You can buy 4 candies from\n",
    "amount 20. You can return 4 wrappers back and get 2 more\n",
    "candies. Then you can return 2 wrappers and get 1 more\n",
    "candy."
   ]
  },
  {
   "cell_type": "code",
   "execution_count": null,
   "metadata": {},
   "outputs": [],
   "source": [
    "import math\n",
    "def candy(coins, price, wrappers):\n",
    "    #your code here"
   ]
  },
  {
   "cell_type": "code",
   "execution_count": null,
   "metadata": {
    "ExecuteTime": {
     "end_time": "2021-07-17T20:15:12.927138Z",
     "start_time": "2021-07-17T20:15:12.885635Z"
    }
   },
   "outputs": [],
   "source": [
    "tests.run('test_2', candy)"
   ]
  },
  {
   "cell_type": "markdown",
   "metadata": {
    "ExecuteTime": {
     "end_time": "2020-06-14T00:27:13.433777Z",
     "start_time": "2020-06-14T00:27:13.426965Z"
    }
   },
   "source": [
    "## Question 3\n",
    "Convert the following list of lists to a dictionary by mapping the numbers to the letters. The pairs of letters should be the keys in the dictionary, and the pairs of numbers should be the values corresponding to those keys.\n",
    "\n",
    "Hint: Use dictionary comprehension"
   ]
  },
  {
   "cell_type": "code",
   "execution_count": null,
   "metadata": {},
   "outputs": [],
   "source": [
    "test_list = [['o', 's', 1, 2], ['k', 'i', 3, 4], ['b', 'e', 5, 6], ['a', 'r', 7, 8]]\n",
    "dictionary = ...\n",
    "print(dictionary)"
   ]
  },
  {
   "cell_type": "code",
   "execution_count": null,
   "metadata": {},
   "outputs": [],
   "source": [
    "tests.run('test_3', dictionary)"
   ]
  },
  {
   "cell_type": "markdown",
   "metadata": {},
   "source": [
    "## Question 4  : Newton's Method\n",
    "\n",
    "Let $ f(x) $ be a differentiable function. If $ x_0 $ is near a solution of $ f(x) = 0 $  then we can approximate $ f(x) $ by the tangent line at $ x_0 $ and compute the x-intercept of the tangent line. The equation of the tangent line at $ x_0 $ is \n",
    "$$ y = f'(x_0) (x - x_0) + f(x) $$\n",
    "\n",
    "The $ x $-intercept is the solution $ x_1 $ of the equation\n",
    "\n",
    "$$ 0 = f'(x_0)(x_1 - x_0) + f(x_0) $$\n",
    "\n",
    "and we solve for $ x_1 $\n",
    "\n",
    "$$ x_1 = x_0 - \\frac{f(x_0)}{f'(x_0)} $$\n",
    "\n",
    "If we implement the procedure repeatedly, then we obtain a sequence given by recursive formula\n",
    "\n",
    "$$ x_n+1 = x_n - \\frac{f(x_n)}{f'(x_n)} $$\n",
    "\n",
    "which (potentially) converges to a solution of the equation $ f(x) = 0 $.\n",
    "\n",
    "Create a function which returns $ x_n $ an approximation of a root of $ f(x) $ by Newton's Method."
   ]
  },
  {
   "cell_type": "code",
   "execution_count": null,
   "metadata": {},
   "outputs": [],
   "source": [
    "def newton(f, Df, x0, epsilon = 1e-8, max_iter=10):\n",
    "    \"\"\"\n",
    "    f: function\n",
    "    Df: derivative of function\n",
    "    x0: initial guess for root of f\n",
    "    epsilon: since we cannot actually get f(x) = 0, \n",
    "             we can tell the function to stop when abs(f(x)) < epsilon\n",
    "    max_iter: maximum number of iterations\n",
    "    \n",
    "    \"\"\" \n",
    "    #your code here"
   ]
  },
  {
   "cell_type": "code",
   "execution_count": null,
   "metadata": {},
   "outputs": [],
   "source": [
    "tests.run('test_4', newton)"
   ]
  },
  {
   "cell_type": "markdown",
   "metadata": {},
   "source": [
    "## Submission\n",
    "\n",
    "Check to make sure that you have answered all questions. Run all the cells so that all output is visible. Finally, export this notebook as a PDF (File/Download As/PDF via LaTeX (.pdf)) and submit to bCourses."
   ]
  },
  {
   "cell_type": "markdown",
   "metadata": {},
   "source": [
    "<b>References:</b> \n",
    "\n",
    "Questions adapted from Patrick Walls' Mathematical Python website (UBC) and work by Sahil Chhabra (akku).\n",
    "\n",
    "Last Updated: Jan 2022"
   ]
  }
 ],
 "metadata": {
  "kernelspec": {
   "display_name": "Python 3 (ipykernel)",
   "language": "python",
   "name": "python3"
  },
  "language_info": {
   "codemirror_mode": {
    "name": "ipython",
    "version": 3
   },
   "file_extension": ".py",
   "mimetype": "text/x-python",
   "name": "python",
   "nbconvert_exporter": "python",
   "pygments_lexer": "ipython3",
   "version": "3.8.5"
  }
 },
 "nbformat": 4,
 "nbformat_minor": 2
}
