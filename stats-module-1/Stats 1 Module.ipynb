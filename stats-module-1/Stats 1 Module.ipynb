{
 "cells": [
  {
   "cell_type": "markdown",
   "metadata": {},
   "source": [
    "# Stats Module 1: Basics of Distributions"
   ]
  },
  {
   "cell_type": "code",
   "execution_count": null,
   "metadata": {
    "ExecuteTime": {
     "end_time": "2022-03-08T02:47:52.320941Z",
     "start_time": "2022-03-08T02:47:50.534709Z"
    }
   },
   "outputs": [],
   "source": [
    "# %load_ext autoreload\n",
    "# %autoreload 2\n",
    "import tests\n",
    "import numpy as np\n",
    "import pandas as pd\n",
    "import matplotlib.pyplot as plt\n",
    "from scipy.stats import poisson"
   ]
  },
  {
   "cell_type": "markdown",
   "metadata": {},
   "source": [
    "## Q1: Normally distributed data\n",
    "\n",
    "A study measures the height of 500 randomly selected five-year-olds in Berkeley. The results of the survey are stored in ``heights.csv``.\n",
    "\n",
    "### Q1a: reading in data\n",
    "Using Pandas, read in the data as a DataFrame. Then, select the ``Heights (cm)`` column and convert that column to a numpy array."
   ]
  },
  {
   "cell_type": "code",
   "execution_count": null,
   "metadata": {
    "ExecuteTime": {
     "end_time": "2022-03-08T02:44:37.952645Z",
     "start_time": "2022-03-08T02:44:37.899022Z"
    }
   },
   "outputs": [],
   "source": [
    "heights = ..."
   ]
  },
  {
   "cell_type": "code",
   "execution_count": null,
   "metadata": {
    "ExecuteTime": {
     "end_time": "2022-03-08T02:44:38.454372Z",
     "start_time": "2022-03-08T02:44:38.401098Z"
    }
   },
   "outputs": [],
   "source": [
    "tests.run('test_1a', heights)"
   ]
  },
  {
   "cell_type": "markdown",
   "metadata": {},
   "source": [
    "### Q1b: histogram\n",
    "\n",
    "Create a histogram of the heights above with 20 bins. **Make sure you label the axes appropriately.**\n",
    "\n",
    "Hint: read the documentation for ``Axes.hist``."
   ]
  },
  {
   "cell_type": "code",
   "execution_count": null,
   "metadata": {
    "ExecuteTime": {
     "end_time": "2022-03-08T02:44:39.660025Z",
     "start_time": "2022-03-08T02:44:39.365410Z"
    }
   },
   "outputs": [],
   "source": [
    "# TODO"
   ]
  },
  {
   "cell_type": "markdown",
   "metadata": {},
   "source": [
    "### Q1c: expected height\n",
    "\n",
    "Calculate the expectation value of the heights \"by hand,\" i.e. without using any functions that explicitly calculates the mean. Then, verify your answer using ``numpy.mean``."
   ]
  },
  {
   "cell_type": "code",
   "execution_count": null,
   "metadata": {
    "ExecuteTime": {
     "end_time": "2022-03-08T02:44:44.007815Z",
     "start_time": "2022-03-08T02:44:43.955146Z"
    }
   },
   "outputs": [],
   "source": [
    "# By hand\n",
    "\n",
    "# Using numpy\n"
   ]
  },
  {
   "cell_type": "markdown",
   "metadata": {},
   "source": [
    "### Q1d: standard deviation\n",
    "Calculate the standard deviation of the height of five year olds in Berkeley \"by hand.\" Once again, this mean without using any functions that explicitly calculate the standard deviation. Then, verify your answer using ``numpy.std``."
   ]
  },
  {
   "cell_type": "code",
   "execution_count": null,
   "metadata": {
    "ExecuteTime": {
     "end_time": "2022-03-08T02:44:46.161765Z",
     "start_time": "2022-03-08T02:44:46.104359Z"
    }
   },
   "outputs": [],
   "source": [
    "# By hand\n",
    "\n",
    "# Using numpy\n"
   ]
  },
  {
   "cell_type": "markdown",
   "metadata": {},
   "source": [
    "### Q1e: 1.37 sigma\n",
    "\n",
    "Calculate the probability that the height of a randomly chosen fiver year old in our survey has a height that is within 1.37 standard deviations of the mean."
   ]
  },
  {
   "cell_type": "code",
   "execution_count": null,
   "metadata": {
    "ExecuteTime": {
     "end_time": "2022-03-08T02:44:47.332575Z",
     "start_time": "2022-03-08T02:44:47.271846Z"
    }
   },
   "outputs": [],
   "source": [
    "prob = ..."
   ]
  },
  {
   "cell_type": "code",
   "execution_count": null,
   "metadata": {
    "ExecuteTime": {
     "end_time": "2022-03-08T02:44:47.832877Z",
     "start_time": "2022-03-08T02:44:47.772880Z"
    }
   },
   "outputs": [],
   "source": [
    "tests.run('test_1e', prob)"
   ]
  },
  {
   "cell_type": "markdown",
   "metadata": {},
   "source": [
    "### Q1f: Normal CDF\n",
    "\n",
    "First, import ``norm`` from ``scipy.stats``. If you do not have ``scipy`` installed, install the package with pip.\n",
    "\n",
    "As its name suggests, ``scipy`` is a package for performing scientific calculations, among them, the normal distribution ``norm``. Read the documentation for ``norm.cdf``, which calculates the cumulative distribution function (CDF) of the normal distribution at some point ``x``. Finally, calculate the probability that a random sample of the normal distribution is within 1.37 standard deviations of the mean. How does this compare to the probability we found in part e?\n",
    "\n",
    "Hint: ``loc`` is the mean and ``scale`` is the std."
   ]
  },
  {
   "cell_type": "code",
   "execution_count": null,
   "metadata": {
    "ExecuteTime": {
     "end_time": "2022-03-08T02:44:49.431119Z",
     "start_time": "2022-03-08T02:44:49.367773Z"
    }
   },
   "outputs": [],
   "source": [
    "from scipy.stats import norm\n",
    "\n",
    "true_prob = ..."
   ]
  },
  {
   "cell_type": "code",
   "execution_count": null,
   "metadata": {
    "ExecuteTime": {
     "end_time": "2022-03-08T02:44:49.964805Z",
     "start_time": "2022-03-08T02:44:49.921062Z"
    }
   },
   "outputs": [],
   "source": [
    "tests.run('test_1f', true_prob)"
   ]
  },
  {
   "cell_type": "markdown",
   "metadata": {},
   "source": [
    "## Question 2: Poisson Distribution"
   ]
  },
  {
   "cell_type": "markdown",
   "metadata": {},
   "source": [
    "A study shows that on average, 50 people visit a local supermarket per day. The number of people that arrive on any given day is modeled by the Poisson distribution.\n",
    "\n",
    "### Q2a: a single Poisson process\n",
    "\n",
    "Write a function ``poisson_process`` which simulates the number of arrivals for a single Poisson process of rate ``lam`` during time ``t`` with ``N`` time increments. For example, ``poisson_process(lam=50, t=1, N=10000)`` would simulate the number of shoppers that visit the supermarket for a given day. The function should proceed as follows:\n",
    "1. Break ``t`` into ``N`` increments of time $\\delta t = t/N$\n",
    "2. The probability that a shopper arrives in one small time increment $\\delta t$ is $\\lambda\\cdot \\delta t$. Using a random number generator, determine by chance if a shopper actually arrives in this time increment.\n",
    "3. Repeat the previous step for all ``N`` increments, and return the total number of shoppers that arrive in your simulation."
   ]
  },
  {
   "cell_type": "code",
   "execution_count": null,
   "metadata": {
    "ExecuteTime": {
     "end_time": "2022-03-08T02:44:53.248423Z",
     "start_time": "2022-03-08T02:44:53.179909Z"
    }
   },
   "outputs": [],
   "source": [
    "def poisson_process(lam, t, N):\n",
    "    # TODO"
   ]
  },
  {
   "cell_type": "code",
   "execution_count": null,
   "metadata": {
    "ExecuteTime": {
     "end_time": "2022-03-08T02:44:54.113042Z",
     "start_time": "2022-03-08T02:44:53.929198Z"
    }
   },
   "outputs": [],
   "source": [
    "# since your simulation is probabilistic, there is a small (~2 percent) chance of failing the test \n",
    "# the chance of failing twice is quite unlikely\n",
    "tests.run('test_2a', poisson_process)"
   ]
  },
  {
   "cell_type": "markdown",
   "metadata": {},
   "source": [
    "### Q2b: a distribution of Poisson processes\n",
    "\n",
    "Your function ``poisson_process`` simulates a single instance of the Poisson process (e.g. recording the number of shopper in a single day). In order to get a sense of the distribution of the number of shoppers, record the results of 1000 Poisson processes in the array ``x``. We will continue with the shoppers example, so let ``lam=50, t=1, n=10000``."
   ]
  },
  {
   "cell_type": "code",
   "execution_count": null,
   "metadata": {
    "ExecuteTime": {
     "end_time": "2022-03-08T02:44:55.269219Z",
     "start_time": "2022-03-08T02:44:55.090191Z"
    }
   },
   "outputs": [],
   "source": [
    "x = ..."
   ]
  },
  {
   "cell_type": "code",
   "execution_count": null,
   "metadata": {
    "ExecuteTime": {
     "end_time": "2022-03-08T02:44:55.611301Z",
     "start_time": "2022-03-08T02:44:55.549667Z"
    }
   },
   "outputs": [],
   "source": [
    "# since your simulation is probabilistic, there is a small (but non-zero) chance of failing the test \n",
    "# re-run the cell above if you believe this is the case\n",
    "tests.run('test_2b', x)"
   ]
  },
  {
   "cell_type": "markdown",
   "metadata": {},
   "source": [
    "### Q2c: plots!\n",
    "\n",
    "Already provided for you is the code for plotting the expected Poisson distribution for the number of shoppers. Using your simulation results from above, plot (on the same figure) a *normalized* histogram of the simulated number of shoppers with 20 bins. Make sure to label your axes appropriately!\n",
    "\n",
    "Hint: to create a normalized histogram, use ``density=True``.\n",
    "\n",
    "Do the plots agree? "
   ]
  },
  {
   "cell_type": "code",
   "execution_count": null,
   "metadata": {
    "ExecuteTime": {
     "end_time": "2022-03-08T02:47:56.464856Z",
     "start_time": "2022-03-08T02:47:56.171734Z"
    }
   },
   "outputs": [],
   "source": [
    "fig, ax = plt.subplots()\n",
    "\n",
    "# TODO\n",
    "\n",
    "mu = 50\n",
    "xx = np.arange(poisson.ppf(0.005, mu),poisson.ppf(0.995, mu))\n",
    "ax.plot(xx, poisson.pmf(xx, mu), '-', label='theory')\n",
    "ax.legend()\n",
    "ax.set_xlabel('Number of shoppers in a day')\n",
    "ax.set_ylabel('Count')\n",
    "\n",
    "plt.show()"
   ]
  },
  {
   "cell_type": "markdown",
   "metadata": {},
   "source": [
    "## Submission\n",
    "\n",
    "Check to make sure that you have answered all questions. Run all the cells so that all output is visible. Finally, export this notebook as a PDF (File/Download As/PDF via LaTeX (.pdf)) and submit to bCourses.\n",
    "\n",
    "Created and edited by the ULAB staff. Last updated: December 2021."
   ]
  }
 ],
 "metadata": {
  "kernelspec": {
   "display_name": "Python 3",
   "language": "python",
   "name": "python3"
  },
  "language_info": {
   "codemirror_mode": {
    "name": "ipython",
    "version": 3
   },
   "file_extension": ".py",
   "mimetype": "text/x-python",
   "name": "python",
   "nbconvert_exporter": "python",
   "pygments_lexer": "ipython3",
   "version": "3.7.4"
  },
  "toc": {
   "base_numbering": 1,
   "nav_menu": {},
   "number_sections": false,
   "sideBar": true,
   "skip_h1_title": false,
   "title_cell": "Table of Contents",
   "title_sidebar": "Contents",
   "toc_cell": false,
   "toc_position": {},
   "toc_section_display": true,
   "toc_window_display": true
  }
 },
 "nbformat": 4,
 "nbformat_minor": 5
}
