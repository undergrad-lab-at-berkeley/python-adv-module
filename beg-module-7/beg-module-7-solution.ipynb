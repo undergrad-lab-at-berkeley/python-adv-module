{
 "cells": [
  {
   "cell_type": "markdown",
   "metadata": {},
   "source": [
    "# ULAB Physics & Astronomy: Python Module VII"
   ]
  },
  {
   "cell_type": "code",
   "execution_count": null,
   "metadata": {
    "ExecuteTime": {
     "end_time": "2022-01-31T20:40:44.602328Z",
     "start_time": "2022-01-31T20:40:44.548674Z"
    },
    "scrolled": true
   },
   "outputs": [],
   "source": [
    "#make sure to run this cell\n",
    "# %load_ext autoreload\n",
    "# %autoreload 2\n",
    "import tests"
   ]
  },
  {
   "cell_type": "markdown",
   "metadata": {},
   "source": [
    "## Question 1: the basics\n",
    "\n",
    "First, import ``numpy`` as the namespace ``np``. "
   ]
  },
  {
   "cell_type": "code",
   "execution_count": null,
   "metadata": {
    "ExecuteTime": {
     "end_time": "2022-02-01T02:42:51.782980Z",
     "start_time": "2022-02-01T02:42:51.735496Z"
    }
   },
   "outputs": [],
   "source": [
    "..."
   ]
  },
  {
   "cell_type": "markdown",
   "metadata": {},
   "source": [
    "Now, create a 1D array of integers ``arr`` from  1 to 11 **using ``numpy.linspace``**."
   ]
  },
  {
   "cell_type": "code",
   "execution_count": null,
   "metadata": {
    "ExecuteTime": {
     "end_time": "2022-01-31T20:40:45.962142Z",
     "start_time": "2022-01-31T20:40:45.904370Z"
    }
   },
   "outputs": [],
   "source": [
    "arr = ..."
   ]
  },
  {
   "cell_type": "markdown",
   "metadata": {},
   "source": [
    "Finally, create a new array ``final_array`` that contains only the odd values of ``arr``. **You must use a single line of code and you should not use a list comprehension.** Hint: boolean-valued indexing."
   ]
  },
  {
   "cell_type": "code",
   "execution_count": null,
   "metadata": {
    "ExecuteTime": {
     "end_time": "2022-01-31T20:40:46.478811Z",
     "start_time": "2022-01-31T20:40:46.449345Z"
    }
   },
   "outputs": [],
   "source": [
    "final_array = ..."
   ]
  },
  {
   "cell_type": "code",
   "execution_count": null,
   "metadata": {
    "ExecuteTime": {
     "end_time": "2022-01-31T20:40:46.803173Z",
     "start_time": "2022-01-31T20:40:46.765142Z"
    },
    "scrolled": true
   },
   "outputs": [],
   "source": [
    "tests.run('test_1', arr, final_array)"
   ]
  },
  {
   "cell_type": "markdown",
   "metadata": {},
   "source": [
    "## Question 2: Stacking arrays \n",
    "\n",
    "You are given two 2D arrays ``a`` and ``b``. For example,\n",
    "\n",
    "```\n",
    ">>> a\n",
    "array([[0, 1, 2, 3, 4],\n",
    "       [5, 6, 7, 8, 9]])\n",
    "       \n",
    ">>> b\n",
    "array([[1, 1, 1, 1, 1],\n",
    "       [1, 1, 1, 1, 1]])\n",
    "```\n",
    "\n",
    "### 2a\n",
    "Implement a function ``vstacked`` which returns a new array with the values of ``a`` and ``b`` vertically stacked. For example,\n",
    "\n",
    "```\n",
    ">>> vstacked(a,b)\n",
    "array([[0, 1, 2, 3, 4],\n",
    "       [5, 6, 7, 8, 9],\n",
    "       [1, 1, 1, 1, 1],\n",
    "       [1, 1, 1, 1, 1]])\n",
    "```\n",
    "\n",
    "Hint: you can use ``numpy.vstack`` or ``numpy.concatenate`` and specify axis."
   ]
  },
  {
   "cell_type": "code",
   "execution_count": null,
   "metadata": {
    "ExecuteTime": {
     "end_time": "2022-01-31T20:40:47.492065Z",
     "start_time": "2022-01-31T20:40:47.445203Z"
    }
   },
   "outputs": [],
   "source": [
    "a = np.arange(10).reshape(2,-1)\n",
    "b = np.repeat(1, 10).reshape(2,-1)\n",
    "\n",
    "def vstacked(a,b):\n",
    "    ..."
   ]
  },
  {
   "cell_type": "code",
   "execution_count": null,
   "metadata": {
    "ExecuteTime": {
     "end_time": "2022-01-31T20:40:47.819713Z",
     "start_time": "2022-01-31T20:40:47.765088Z"
    }
   },
   "outputs": [],
   "source": [
    "print(vstacked(a,b))\n",
    "tests.run('test_2a', vert_array)"
   ]
  },
  {
   "cell_type": "markdown",
   "metadata": {},
   "source": [
    "### 2b\n",
    "\n",
    "Implement a function ``hstacked`` which returns parameters ``a`` and ``b`` horizontally stacked. For example,\n",
    "\n",
    "```\n",
    ">>> hstacked(a,b)\n",
    "array([[0, 1, 2, 3, 4, 1, 1, 1, 1, 1],\n",
    "       [5, 6, 7, 8, 9, 1, 1, 1, 1, 1]])\n",
    "```"
   ]
  },
  {
   "cell_type": "code",
   "execution_count": null,
   "metadata": {
    "ExecuteTime": {
     "end_time": "2022-01-31T20:40:48.503953Z",
     "start_time": "2022-01-31T20:40:48.423033Z"
    }
   },
   "outputs": [],
   "source": [
    "def hstacked(a,b):\n",
    "    ..."
   ]
  },
  {
   "cell_type": "code",
   "execution_count": null,
   "metadata": {
    "ExecuteTime": {
     "end_time": "2022-01-31T20:40:48.803311Z",
     "start_time": "2022-01-31T20:40:48.764342Z"
    }
   },
   "outputs": [],
   "source": [
    "tests.run('test_2b', hstacked)"
   ]
  },
  {
   "cell_type": "markdown",
   "metadata": {
    "ExecuteTime": {
     "end_time": "2020-06-14T00:27:13.433777Z",
     "start_time": "2020-06-14T00:27:13.426965Z"
    }
   },
   "source": [
    "## Question 3\n",
    "### 3a\n",
    "Implement a function ``dmax`` that returns double the larger of the two values ``x`` or ``y``."
   ]
  },
  {
   "cell_type": "code",
   "execution_count": null,
   "metadata": {
    "ExecuteTime": {
     "end_time": "2022-01-31T20:40:49.503883Z",
     "start_time": "2022-01-31T20:40:49.462294Z"
    }
   },
   "outputs": [],
   "source": [
    "def dmax(x, y):\n",
    "    ..."
   ]
  },
  {
   "cell_type": "code",
   "execution_count": null,
   "metadata": {
    "ExecuteTime": {
     "end_time": "2022-01-31T20:40:49.862926Z",
     "start_time": "2022-01-31T20:40:49.825500Z"
    }
   },
   "outputs": [],
   "source": [
    "tests.run('test_3a', dmax)"
   ]
  },
  {
   "cell_type": "markdown",
   "metadata": {},
   "source": [
    "### 3b\n",
    "\n",
    "Suppose we have two arrays,\n",
    "```\n",
    ">>> a\n",
    "array([1, 2, 3])\n",
    ">>> b\n",
    "array([2, 2, 2])\n",
    "```\n",
    "and we want to apply the function ``dmax`` to ``a`` and ``b``,\n",
    "```\n",
    ">>> maxed\n",
    "array([4, 4, 6])\n",
    "```\n",
    "\n",
    "We could use a for loop,\n",
    "```\n",
    "maxed = []\n",
    "for i in range(3):\n",
    "    maxed.append(dmax(a[i], b[i]))\n",
    "```\n",
    "However, this is very slow because python has a lot of overhead! Instead, we can use numpy to vectorize the function. A vectorized function takes a sequence of ndarrays and evaluates the python function over each index of the arrays. For example,\n",
    "```\n",
    ">>> dmax_vec = ... # your job!\n",
    ">>> maxed = dmax_vec(a,b)\n",
    ">>> maxed\n",
    "array([4., 4., 6.])\n",
    "```\n",
    "Not only is this cleaner to read, but it runs much faster because numpy is implemented in C!\n",
    "\n",
    "Define ``dmax_vec``. Hint: use ``numpy.vectorize`` and specify an appropriate ``otypes``."
   ]
  },
  {
   "cell_type": "code",
   "execution_count": null,
   "metadata": {
    "ExecuteTime": {
     "end_time": "2022-01-31T20:40:50.503100Z",
     "start_time": "2022-01-31T20:40:50.453008Z"
    }
   },
   "outputs": [],
   "source": [
    "dmax_vec = ..."
   ]
  },
  {
   "cell_type": "code",
   "execution_count": null,
   "metadata": {
    "ExecuteTime": {
     "end_time": "2022-01-31T20:40:50.836158Z",
     "start_time": "2022-01-31T20:40:50.783676Z"
    }
   },
   "outputs": [],
   "source": [
    "tests.run('test_3b', dmax_vec)"
   ]
  },
  {
   "cell_type": "markdown",
   "metadata": {},
   "source": [
    "## Question 4 : Converting to Grayscale\n",
    "\n",
    "Here we have an image of the sunset over the Bay [taken UC Berkeley 2018]"
   ]
  },
  {
   "cell_type": "code",
   "execution_count": null,
   "metadata": {
    "ExecuteTime": {
     "end_time": "2022-01-31T20:40:57.060651Z",
     "start_time": "2022-01-31T20:40:56.516382Z"
    }
   },
   "outputs": [],
   "source": [
    "import matplotlib.pyplot as plt\n",
    "from matplotlib import image\n",
    "\n",
    "img = image.imread('bay.jpeg')\n",
    "plt.imshow(img)\n",
    "plt.show()"
   ]
  },
  {
   "cell_type": "markdown",
   "metadata": {},
   "source": [
    "``img`` is a numpy array with shape,\n",
    "```\n",
    ">>> img.shape\n",
    "(1280, 1280, 3)\n",
    "```\n",
    "\n",
    "This indicates that the images is 1280x1280 pixels large with 3 color channels (R, G, B). The data is stored as a 1280 row by 1280 column matrix where each element of the matrix is an array containing the color values of each pixel.\n",
    "\n",
    "Suppose we believe this image would look better in grayscale. To convert a colored image to grayscale, we must create a new array of size ``(1280, 1280)`` and combine the 3 color values into a single grayscale value.\n",
    "\n",
    "Using eq. 7 of this [reference](grayscale_conversion.pdf), create a new image ``grey`` that is the grayscale version of ``img``."
   ]
  },
  {
   "cell_type": "code",
   "execution_count": null,
   "metadata": {
    "ExecuteTime": {
     "end_time": "2022-01-31T20:41:11.322307Z",
     "start_time": "2022-01-31T20:41:11.231680Z"
    }
   },
   "outputs": [],
   "source": [
    "grey = ..."
   ]
  },
  {
   "cell_type": "code",
   "execution_count": null,
   "metadata": {
    "ExecuteTime": {
     "end_time": "2022-01-31T20:41:13.343826Z",
     "start_time": "2022-01-31T20:41:12.867793Z"
    }
   },
   "outputs": [],
   "source": [
    "plt.imshow(grey, cmap='gray')\n",
    "plt.show()\n",
    "tests.run('test_4', grey)"
   ]
  },
  {
   "cell_type": "markdown",
   "metadata": {},
   "source": [
    "## Submission\n",
    "\n",
    "Check to make sure that you have answered all questions. Run all the cells so that all output is visible. Finally, export this notebook as a PDF (File/Download As/PDF via LaTeX (.pdf)) and submit to bCourses."
   ]
  },
  {
   "cell_type": "markdown",
   "metadata": {},
   "source": [
    "<b>References:</b> \n",
    "\n",
    "Questions inspired by work by Selva Prabhakaran and Vasu Gupta. \n",
    "\n",
    "Images: Yi Zhu, 2018\n",
    "\n",
    "Last Updated: Jan 2022"
   ]
  }
 ],
 "metadata": {
  "kernelspec": {
   "display_name": "Python 3",
   "language": "python",
   "name": "python3"
  },
  "language_info": {
   "codemirror_mode": {
    "name": "ipython",
    "version": 3
   },
   "file_extension": ".py",
   "mimetype": "text/x-python",
   "name": "python",
   "nbconvert_exporter": "python",
   "pygments_lexer": "ipython3",
   "version": "3.7.4"
  },
  "toc": {
   "base_numbering": 1,
   "nav_menu": {},
   "number_sections": false,
   "sideBar": true,
   "skip_h1_title": false,
   "title_cell": "Table of Contents",
   "title_sidebar": "Contents",
   "toc_cell": false,
   "toc_position": {},
   "toc_section_display": true,
   "toc_window_display": true
  }
 },
 "nbformat": 4,
 "nbformat_minor": 2
}
